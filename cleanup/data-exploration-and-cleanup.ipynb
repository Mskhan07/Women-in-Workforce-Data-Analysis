{
 "cells": [
  {
   "cell_type": "markdown",
   "metadata": {},
   "source": [
    "# <center>Women in the Workforce:<br>Data Exploration and Cleanup Process</center>\n",
    "#### <center>*Contributors: Tamara Najjar, Mohammed Sajid Khan, and Kathleen Graham*</center>"
   ]
  },
  {
   "cell_type": "markdown",
   "metadata": {},
   "source": [
    "### Introduction\n",
    "\n",
    "We chose to explore possible effects of increased participation of women in the workforce. Cleaning up the data took the longest and many issues were discovered while trying to plot. It was an interesting process."
   ]
  },
  {
   "cell_type": "markdown",
   "metadata": {},
   "source": [
    "### Exploration\n",
    "\n",
    "We began our exploration on the [U.S. Department of Labor](https://www.dol.gov/)'s website. We also found some finance websites such as [Federal Reserve Bank of St. Louis, Eighth District](https://fred.stlouisfed.org) and [Yahoo Finance](https://yhoo.it/2XJ4JvL). Eventually, we discovered numerous data sets from the [Institute for Women's Policy Research](https://statusofwomendata.org) and a relevant API through the [Bureau of Labor Statistics](https://catalog.data.gov/)."
   ]
  },
  {
   "cell_type": "markdown",
   "metadata": {},
   "source": [
    "### Resources\n",
    "\n",
    "For this analysis, we used Jupyter Notebook, Python, pandas, NumPy, and Matplotlib.\n",
    "\n",
    "Our favorite resources for researching how to solve issues while cleaning up data and plotting:\n",
    "\n",
    "* [Geeks for Geeks](https://www.geeksforgeeks.org/python-programming-language/)\n",
    "* [Stack Overflow](https://stackoverflow.com/)\n",
    "* [Matplotlib Documentation](https://matplotlib.org/)\n",
    "* [The Python Graph Gallery](https://python-graph-gallery.com/)"
   ]
  },
  {
   "cell_type": "markdown",
   "metadata": {},
   "source": [
    "### Overview of issues while cleaning data and plotting\n",
    "\n",
    "“If you torture the data long enough, it will confess.” ― Ronald H. Coase, *Essays on Economics and Economists*\n",
    "\n",
    "The overall process for cleaning our data was simple, but there were a few unexpected issues that took significantly more time to solve. We didn't want to torture our data, so we first followed typical clean up procedures and simple line plots for time series. Unexpected issues arose wwhen trying to plot two separate time series together, when different types or lengths were used within the same data frame, or when different types were nested within each other.\n",
    "\n",
    "Most of our data sets included one of the following issues:\n",
    "\n",
    "* Mapping column names\n",
    "* Dropping rows that were unnecessary, incomplete, or skewing plotting\n",
    "* Parsing through API requests\n",
    "* Parsing through dates to get years\n",
    "* Changing strings to integers or floats\n",
    "* Creating secondary y axes\n",
    "* Manipulating legends\n",
    "* Changing tick locations and size"
   ]
  },
  {
   "cell_type": "markdown",
   "metadata": {},
   "source": [
    "### Expected Cleanup\n",
    "\n",
    "Most of the data sets were messy and many had more information than needed or not enough information, so we dropped blank or unnecessary rows before plotting in order to see the true meaning of the data. Occasionally, dropping was required due to the wrong type of data in place of no data recorded for certain demographics.\n",
    "\n",
    "For example, when observing the increased participation rate of women in the workforce grouped by race, we couldn't plot properly because some of the rows had string placeholders ('-') instead of NA or the integer 0. We had to make separate data frames for each race and then drop the rows that were distorting the plot. Then we were able to plot all together."
   ]
  },
  {
   "cell_type": "markdown",
   "metadata": {},
   "source": [
    "#### Distorted plot:\n",
    "\n",
    "![code-for-women-by-race-plot](../cleanup/images/distorted-womenbyrace-code.png)\n",
    "![distorted-plot-of-women-in-workforce-by-race](../cleanup/images/distorted-womenbyrace-lineplot.png)"
   ]
  },
  {
   "cell_type": "markdown",
   "metadata": {},
   "source": [
    "#### Accurate plot:\n",
    "\n",
    "![accurate-code-for-women-by-race-plot](../cleanup/images/accurate-womenbyrace-code.png)\n",
    "![accurate-plot-of-women-in-workforce-by-race](../analysis/images/women-workforce-byrace-lineplot.png)"
   ]
  },
  {
   "cell_type": "markdown",
   "metadata": {},
   "source": [
    "### Unexpected Cleanup\n",
    "\n",
    "Parsing the requests obtained through an API and plotting a secondary y axis were two of our most interesting problems we solved while cleaning and plotting our data."
   ]
  },
  {
   "cell_type": "markdown",
   "metadata": {},
   "source": [
    "#### Parsing API requests\n",
    "\n",
    "Our API calls could only be made 10 at a time. We put these calls into six different data frames only to realize that the data frames were extremely nested. "
   ]
  },
  {
   "cell_type": "code",
   "execution_count": null,
   "metadata": {},
   "outputs": [],
   "source": [
    "# dependencies and setup\n",
    "import requests\n",
    "import json\n",
    "from pprint import pprint\n",
    "\n",
    "# API calls\n",
    "headers1 = {'Content-type': 'application/json'}\n",
    "data1 = json.dumps({\"seriesid\": ['CUUR0000SA0','SUUR0000SA0'],\"startyear\":\"1960\", \"endyear\":\"1969\"})\n",
    "p1 = requests.post('https://api.bls.gov/publicAPI/v2/timeseries/data/', data=data1, headers=headers1)\n",
    "json_data1 = json.loads(p1.text)\n",
    "\n",
    "headers2 = {'Content-type': 'application/json'}\n",
    "data2 = json.dumps({\"seriesid\": ['CUUR0000SA0','SUUR0000SA0'],\"startyear\":\"1970\", \"endyear\":\"1979\"})\n",
    "p2 = requests.post('https://api.bls.gov/publicAPI/v2/timeseries/data/', data=data2, headers=headers2)\n",
    "json_data2 = json.loads(p2.text)\n",
    "\n",
    "headers3 = {'Content-type': 'application/json'}\n",
    "data3 = json.dumps({\"seriesid\": ['CUUR0000SA0','SUUR0000SA0'],\"startyear\":\"1980\", \"endyear\":\"1989\"})\n",
    "p3 = requests.post('https://api.bls.gov/publicAPI/v2/timeseries/data/', data=data3, headers=headers3)\n",
    "json_data3 = json.loads(p3.text)\n",
    "\n",
    "headers4 = {'Content-type': 'application/json'}\n",
    "data4 = json.dumps({\"seriesid\": ['CUUR0000SA0','SUUR0000SA0'],\"startyear\":\"1990\", \"endyear\":\"1999\"})\n",
    "p4 = requests.post('https://api.bls.gov/publicAPI/v2/timeseries/data/', data=data4, headers=headers4)\n",
    "json_data4 = json.loads(p4.text)\n",
    "\n",
    "headers5 = {'Content-type': 'application/json'}\n",
    "data5 = json.dumps({\"seriesid\": ['CUUR0000SA0','SUUR0000SA0'],\"startyear\":\"2000\", \"endyear\":\"2009\"})\n",
    "p5 = requests.post('https://api.bls.gov/publicAPI/v2/timeseries/data/', data=data5, headers=headers5)\n",
    "json_data5 = json.loads(p5.text)\n",
    "\n",
    "headers6 = {'Content-type': 'application/json'}\n",
    "data6 = json.dumps({\"seriesid\": ['CUUR0000SA0','SUUR0000SA0'],\"startyear\":\"2010\", \"endyear\":\"2019\"})\n",
    "p6 = requests.post('https://api.bls.gov/publicAPI/v2/timeseries/data/', data=data6, headers=headers6)\n",
    "json_data6 = json.loads(p6.text)"
   ]
  },
  {
   "cell_type": "code",
   "execution_count": null,
   "metadata": {},
   "outputs": [],
   "source": [
    "# print to look at nested results\n",
    "pprint(json_data1)\n",
    "pprint(json_data2)\n",
    "pprint(json_data3)\n",
    "pprint(json_data4)\n",
    "pprint(json_data5)\n",
    "pprint(json_data6)"
   ]
  },
  {
   "cell_type": "markdown",
   "metadata": {},
   "source": [
    "#### Solution to nested lists and dictionaries in API requests\n",
    "\n",
    "Upon looking at the types and lengths, we were able to create loops to go through the requests and append certain information to lists that could be placed into a new data frame. There was not much help on the internet about this issue, so it took some time to realize the lists and dictionaries were densely nested. Thinking through how we would extract the pertinent information manually helped us to decide on using loops to append the data appropriately."
   ]
  },
  {
   "cell_type": "code",
   "execution_count": null,
   "metadata": {},
   "outputs": [],
   "source": [
    "# find data from API calls and put into proper variables\n",
    "frame1 = [json_data1['Results']['series'][0]['data']]\n",
    "frame2 = [json_data2['Results']['series'][0]['data']]\n",
    "frame3 = [json_data3['Results']['series'][0]['data']]\n",
    "frame4 = [json_data4['Results']['series'][0]['data']]\n",
    "frame5 = [json_data5['Results']['series'][0]['data']]\n",
    "frame6 = [json_data6['Results']['series'][0]['data']]\n",
    "\n",
    "# find length of frame6 to put into loop\n",
    "len(frame6[0])"
   ]
  },
  {
   "cell_type": "code",
   "execution_count": null,
   "metadata": {},
   "outputs": [],
   "source": [
    "# create lists for data to append to\n",
    "period = []\n",
    "month = []\n",
    "value = []\n",
    "year = []\n",
    "\n",
    "# loop through data in frame1 and append to lists\n",
    "for i in range (0,119):\n",
    "    for info in frame1[0][i]:\n",
    "        year.append(frame1[0][i]['year'])\n",
    "        # pprint(frame1[0][i]['year'])\n",
    "        value.append(frame1[0][i]['value'])\n",
    "        month.append(frame1[0][i]['periodName'])\n",
    "        period.append(frame1[0][i]['period'])\n",
    "\n",
    "# loop through data in frame2 and append to lists        \n",
    "for i in range (0,119):\n",
    "    for info in frame2[0][i]:\n",
    "        year.append(frame2[0][i]['year'])\n",
    "        # pprint(frame2[0][i]['year'])\n",
    "        value.append(frame2[0][i]['value'])\n",
    "        month.append(frame2[0][i]['periodName'])\n",
    "        period.append(frame2[0][i]['period'])\n",
    "\n",
    "# loop through data in frame3 and append to lists        \n",
    "for i in range (0,119):\n",
    "    for info in frame3[0][i]:\n",
    "        year.append(frame3[0][i]['year'])\n",
    "        # pprint(frame3[0][i]['year'])\n",
    "        value.append(frame3[0][i]['value'])\n",
    "        month.append(frame3[0][i]['periodName'])\n",
    "        period.append(frame3[0][i]['period'])\n",
    "\n",
    "# loop through data in frame4 and append to lists        \n",
    "for i in range (0,119):\n",
    "    for info in frame4[0][i]:\n",
    "        year.append(frame4[0][i]['year'])\n",
    "        # pprint(frame4[0][i]['year'])\n",
    "        value.append(frame4[0][i]['value'])\n",
    "        month.append(frame4[0][i]['periodName'])\n",
    "        period.append(frame4[0][i]['period'])\n",
    "\n",
    "# loop through data in frame5 and append to lists        \n",
    "for i in range (0,119):\n",
    "    for info in frame5[0][i]:\n",
    "        year.append(frame5[0][i]['year'])\n",
    "        # pprint(frame5[0][i]['year'])\n",
    "        value.append(frame5[0][i]['value'])\n",
    "        month.append(frame5[0][i]['periodName'])\n",
    "        period.append(frame5[0][i]['period'])\n",
    "\n",
    "for i in range (0,112):\n",
    "    for info in frame6[0][i]:\n",
    "        year.append(frame6[0][i]['year'])\n",
    "        # pprint(frame6[0][i]['year'])\n",
    "        value.append(frame6[0][i]['value'])\n",
    "        month.append(frame6[0][i]['periodName'])\n",
    "        period.append(frame6[0][i]['period'])"
   ]
  },
  {
   "cell_type": "code",
   "execution_count": null,
   "metadata": {},
   "outputs": [],
   "source": [
    "# put lists into data frame and display\n",
    "df = pd.DataFrame({\"Year\": year,\n",
    "                  \"Month\": month,\n",
    "                  \"Value\": value,\n",
    "                  \"Period\": period})\n",
    "df.head()"
   ]
  },
  {
   "cell_type": "code",
   "execution_count": null,
   "metadata": {},
   "outputs": [],
   "source": [
    "# output to csv\n",
    "df.to_csv(\"data/avg-hourly-employee-cost.csv\", encoding='utf-8', index=False)"
   ]
  },
  {
   "cell_type": "markdown",
   "metadata": {},
   "source": [
    "#### Plotting a secondary y axis\n",
    "\n",
    "We researched some examples of secondary y axis plots on Stack Overflow and decided to use plt.subplots() and fig, ax. This created unintended consequences, such as plotting two separate legends and manipulating their locations and sizes as best we could.\n",
    "\n",
    "![plotting-secondary-y-axis-code](../cleanup/images/secondary-y-axis-code-and-plot.png)"
   ]
  },
  {
   "cell_type": "markdown",
   "metadata": {},
   "source": [
    "### Checking Accuracy of Separate Data Sets Against Each Other"
   ]
  },
  {
   "cell_type": "markdown",
   "metadata": {},
   "source": [
    "We wanted to check the accuracy of two data sets that that had data on the participation rates of women in the workforce. We plotted them against each other for comparison, and we could easily see something was off. There is no such thing as a perfect data set. Taking this into account, we did the best we could with what we found.\n",
    "\n",
    "![comparison-of-separate-women-in-workforce-datasets](../cleanup/images/comparing-crude-women-workforce-datasets.png)"
   ]
  },
  {
   "cell_type": "markdown",
   "metadata": {},
   "source": [
    "### Further Analysis\n",
    "\n",
    "We had a lot of times series and even more ideas for further analysis. If we had more time, we could:\n",
    "\n",
    "1. gather more data.\n",
    "2. clean it up using the techniques already used in this analysis.\n",
    "3. visualize the data with a few other types of plots such as pie charts and stacked bar plots.\n",
    "4. make a few of them a little more interactive."
   ]
  },
  {
   "cell_type": "markdown",
   "metadata": {},
   "source": [
    "### Conclusion\n",
    "\n",
    "While we didn't prove there is or isn't 100% positive or negative correlation, we believe it is interesting to observe the trends across industries vs. participation of women in the workforce, but the most interesting is the increase in pet expenditure."
   ]
  },
  {
   "cell_type": "code",
   "execution_count": null,
   "metadata": {},
   "outputs": [],
   "source": []
  }
 ],
 "metadata": {
  "kernelspec": {
   "display_name": "Python 3",
   "language": "python",
   "name": "python3"
  },
  "language_info": {
   "codemirror_mode": {
    "name": "ipython",
    "version": 3
   },
   "file_extension": ".py",
   "mimetype": "text/x-python",
   "name": "python",
   "nbconvert_exporter": "python",
   "pygments_lexer": "ipython3",
   "version": "3.7.3"
  }
 },
 "nbformat": 4,
 "nbformat_minor": 2
}
