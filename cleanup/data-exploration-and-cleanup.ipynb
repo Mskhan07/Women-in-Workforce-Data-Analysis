{
 "cells": [
  {
   "cell_type": "markdown",
   "metadata": {},
   "source": [
    "# <center>Women in the Workforce:<br>Data Exploration and Cleanup Process</center>\n",
    "#### <center>*Contributors: Tamara Najjar, Mohammed Sajid Khan, and Kathleen Graham*</center>"
   ]
  },
  {
   "cell_type": "markdown",
   "metadata": {},
   "source": [
    "### <font color=orange>Introduction</font>\n",
    "\n",
    "We chose to explore possible effects of increased participation of women in the workforce. Cleaning up the data took the longest and many issues were discovered while trying to plot. It was an interesting process."
   ]
  },
  {
   "cell_type": "markdown",
   "metadata": {},
   "source": [
    "### <font color=orange>Exploration</font>\n",
    "\n",
    "We began our exploration on the [U.S. Department of Labor](https://www.dol.gov/)'s website. We also found some finance websites such as [Federal Reserve Bank of St. Louis, Eighth District](https://fred.stlouisfed.org) and [Yahoo Finance](https://yhoo.it/2XJ4JvL). Eventually, we discovered numerous data sets from the [Institute for Women's Policy Research](https://statusofwomendata.org) and a relevant API through the [Bureau of Labor Statistics](https://catalog.data.gov/)."
   ]
  },
  {
   "cell_type": "markdown",
   "metadata": {},
   "source": [
    "### <font color=orange>Resources</font>\n",
    "\n",
    "Our favorite resources for researching how to solve issues while cleaning up data and plotting:\n",
    "\n",
    "* [Geeks for Geeks](https://www.geeksforgeeks.org/python-programming-language/)\n",
    "* [Stack Overflow](https://stackoverflow.com/)\n",
    "* [Matplotlib Documentation](https://matplotlib.org/)\n",
    "* [The Python Graph Gallery](https://python-graph-gallery.com/)"
   ]
  },
  {
   "cell_type": "markdown",
   "metadata": {},
   "source": [
    "### <font color=orange>Overview of issues while cleaning data and plotting</font>\n",
    "\n",
    "“If you torture the data long enough, it will confess.” ― Ronald H. Coase, *Essays on Economics and Economists*\n",
    "\n",
    "The overall process for cleaning our data was simple, but there were a few unexpected issues that took significantly more time to solve. We didn't want to torture our data, so we first followed typical clean up procedures and simple line plots for time series. Unexpected issues arose wwhen trying to plot two separate time series together, when different types or lengths were used within the same data frame, or when different types were nested within each other.\n",
    "\n",
    "Most of our data sets included one of the following issues:\n",
    "\n",
    "* Mapping column names\n",
    "* Dropping rows that were unnecessary, incomplete, or skewing plotting\n",
    "* Parsing through API requests\n",
    "* Parsing through dates to get years\n",
    "* Changing strings to integers or floats\n",
    "* Creating secondary y axes\n",
    "* Manipulating legends\n",
    "* Changing tick locations and size"
   ]
  },
  {
   "cell_type": "markdown",
   "metadata": {},
   "source": [
    "### <font color=orange>Expected Cleanup</font>\n",
    "\n",
    "Most of the data sets were messy and many had more information than needed or not enough information, so we dropped blank or unnecessary rows before plotting in order to see the true meaning of the data. Occasionally, dropping was required due to the wrong type of data in place of no data recorded for certain demographics.\n",
    "\n",
    "For example, when observing the increased participation rate of women in the workforce grouped by race, we couldn't plot properly because some of the rows had string placeholders ('-') instead of NA or the integer 0. We had to make separate data frames for each race and then drop the rows that were distorting the plot. Then we were able to plot all together.\n",
    "\n",
    "#### Distorted plot:\n",
    "\n",
    "![code-for-women-by-race-plot](../images/cleanup/distorted-womenbyrace-code.png)\n",
    "![distorted-plot-of-women-in-workforce-by-race](../images/cleanup/distorted-womenbyrace-lineplot.png)\n",
    "\n",
    "#### Accurate plot:\n",
    "\n",
    "![accurate-code-for-women-by-race-plot](../images/cleanup/accurate-womenbyrace-code.png)\n",
    "![accurate-plot-of-women-in-workforce-by-race](../images/analysis/women-workforce-byrace-lineplot.png)"
   ]
  },
  {
   "cell_type": "markdown",
   "metadata": {},
   "source": [
    "### <font color=orange>Unexpected Cleanup</font>\n",
    "\n",
    "Parsing the requests obtained through an API and plotting a secondary y axis were two of our most interesting problems we solved while cleaning and plotting our data.\n",
    "\n",
    "#### Parsing API requests\n",
    "\n",
    "Our API calls could only be made 10 at a time. We put these calls into six different data frames only to realize that the data frames were extremely nested. Upon looking at the types and lengths, we were able to create loops to go through the requests and append certain information to lists that could be placed into a new data frame. There was not much help on the internet about this issue, so it took some time to realize the lists and dictionaries were densely nested. Thinking through how we would extract the pertinent information manually helped us to decide on using loops to append the data appropriately.\n",
    "\n",
    "![pic-here](../images/cleanup/x.png)\n",
    "\n",
    "#### Plotting a secondary y axis\n",
    "\n",
    "We researched some examples of secondary y axis plots on Stack Overflow and decided to use plt.subplots() and fig, ax. This created unintended consequences, such as plotting two separate legends and manipulating their locations and sizes as best we could.\n",
    "\n",
    "![pic-here](../images/cleanup/x.png)"
   ]
  },
  {
   "cell_type": "markdown",
   "metadata": {},
   "source": [
    "### <font color=orange>Further Steps</font>\n",
    "\n",
    "If we had more time, we could gather more data, clean it up using the techniques already used in this analysis, and visualize the data with a few other types of plots in addition to line plots."
   ]
  },
  {
   "cell_type": "markdown",
   "metadata": {},
   "source": [
    "### <font color=orange>Conclusion</font>\n",
    "\n",
    "There is no such thing as a perfect data set. Taking this into account, we did the best we could with what we found."
   ]
  },
  {
   "cell_type": "code",
   "execution_count": null,
   "metadata": {},
   "outputs": [],
   "source": []
  }
 ],
 "metadata": {
  "kernelspec": {
   "display_name": "Python 3",
   "language": "python",
   "name": "python3"
  },
  "language_info": {
   "codemirror_mode": {
    "name": "ipython",
    "version": 3
   },
   "file_extension": ".py",
   "mimetype": "text/x-python",
   "name": "python",
   "nbconvert_exporter": "python",
   "pygments_lexer": "ipython3",
   "version": "3.7.3"
  }
 },
 "nbformat": 4,
 "nbformat_minor": 2
}
