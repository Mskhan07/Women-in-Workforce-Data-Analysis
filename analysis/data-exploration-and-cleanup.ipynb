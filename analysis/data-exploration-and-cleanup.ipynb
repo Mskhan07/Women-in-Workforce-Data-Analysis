{
 "cells": [
  {
   "cell_type": "markdown",
   "metadata": {},
   "source": [
    "# <center>Women in the Workforce:<br>Data Exploration and Cleanup Process</center>\n",
    "#### <center>*Contributors: Tamara Najjar, Sajid Khan, and Kathleen Graham*</center>"
   ]
  },
  {
   "cell_type": "markdown",
   "metadata": {},
   "source": [
    "### <font color=orange>Exploration</font>\n",
    "\n",
    "First, we brainstormed topics in which we were interested and finally settled on women in the workforce. Once we found a good data set showing the percentage of women in the workforce over many decades, we plotted and easily saw a steady increase.\n",
    "\n",
    "Next, we wanted to explore effects of increased number of women in the workforce. We began research into more data sets that we could plot and through which we could find interesting trends or meaning.\n",
    "\n",
    "*We did not include genders other than male and female. There is not enough data for other, but this would be interesting to included in the future.*\n",
    "\n"
   ]
  },
  {
   "cell_type": "markdown",
   "metadata": {},
   "source": [
    "### <font color=orange>Cleanup</font>\n",
    "\n",
    "Most of the data sets were messy, had more information than needed, or didn't have enough information. We had to rename, group, parse dates, find averages, and merge data sets in order to be able to plot together in a meaningful way.\n",
    "\n",
    "### <font color=orange>Specific Issues</font>\n",
    "1. Finding enough data\n",
    "2. Mapping column names\n",
    "3. Changing tick locations\n",
    "4. Dropping rows that were skewing plotting or were incomplete (such as one year having only one quarter of data when all other years had four quarters of data)\n",
    "5. Changing strings to integers when necessary\n",
    "6. Creating a secondary y axis for double plotting\n",
    "7. Manipulating legends\n",
    "8. Putting data from API requests into data frame (analyzed types to be able to append certain indices to lists)\n",
    "\n",
    "### <font color=orange>Caveats</font>\n",
    "\n",
    "There is no such thing as a perfect data set. Taking this into account, we did the best we could with what we found. A tortured data set will confess to anything!"
   ]
  },
  {
   "cell_type": "code",
   "execution_count": null,
   "metadata": {},
   "outputs": [],
   "source": []
  }
 ],
 "metadata": {
  "kernelspec": {
   "display_name": "Python 3",
   "language": "python",
   "name": "python3"
  },
  "language_info": {
   "codemirror_mode": {
    "name": "ipython",
    "version": 3
   },
   "file_extension": ".py",
   "mimetype": "text/x-python",
   "name": "python",
   "nbconvert_exporter": "python",
   "pygments_lexer": "ipython3",
   "version": "3.7.3"
  }
 },
 "nbformat": 4,
 "nbformat_minor": 2
}
