{
 "cells": [
  {
   "cell_type": "markdown",
   "metadata": {},
   "source": [
    "# Analysis of Effects of Increased Number of Women in the U.S. Workforce\n",
    "\n",
    "## Contributors\n",
    "\n",
    "Kathleen Graham, Tamara Najjar, Sajid Khan\n",
    "\n",
    "## Data Exploration and Cleanup Process\n",
    "\n",
    "#### Exploration\n",
    "\n",
    "First, we brainstormed topics in which we were interested and finally settled on women in the workforce. Once we found a good data set showing the percentage of women in the workforce over many decades, we plotted and easily saw a steady increase.\n",
    "\n",
    "Next, we wanted to explore effects of increased number of women in the workforce. We began research into more data sets that we could plot and through which we could find interesting trends or meaning.\n",
    "\n",
    "#### Cleanup\n",
    "\n",
    "Most of the data sets were messy, had more information than needed, or didn't have enough information. We had to rename, group, parse dates, find averages, and merge data sets in order to be able to plot together in a meaningful way.\n",
    "\n",
    "#### Margin of Error\n",
    "\n",
    "There is no such thing as a perfect data set. Taking this into account, we did the best we could with what we found."
   ]
  },
  {
   "cell_type": "code",
   "execution_count": null,
   "metadata": {},
   "outputs": [],
   "source": []
  }
 ],
 "metadata": {
  "kernelspec": {
   "display_name": "Python 3",
   "language": "python",
   "name": "python3"
  },
  "language_info": {
   "codemirror_mode": {
    "name": "ipython",
    "version": 3
   },
   "file_extension": ".py",
   "mimetype": "text/x-python",
   "name": "python",
   "nbconvert_exporter": "python",
   "pygments_lexer": "ipython3",
   "version": "3.7.3"
  }
 },
 "nbformat": 4,
 "nbformat_minor": 2
}
