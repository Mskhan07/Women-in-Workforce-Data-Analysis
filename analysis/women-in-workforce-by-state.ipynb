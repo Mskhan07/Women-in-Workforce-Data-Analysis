{
 "cells": [
  {
   "cell_type": "code",
   "execution_count": 2,
   "metadata": {},
   "outputs": [],
   "source": [
    "# dependencies and setup\n",
    "%matplotlib inline\n",
    "import pandas as pd\n",
    "import numpy as np\n",
    "import matplotlib.pyplot as plt"
   ]
  },
  {
   "cell_type": "code",
   "execution_count": 3,
   "metadata": {},
   "outputs": [
    {
     "data": {
      "text/html": [
       "<div>\n",
       "<style scoped>\n",
       "    .dataframe tbody tr th:only-of-type {\n",
       "        vertical-align: middle;\n",
       "    }\n",
       "\n",
       "    .dataframe tbody tr th {\n",
       "        vertical-align: top;\n",
       "    }\n",
       "\n",
       "    .dataframe thead th {\n",
       "        text-align: right;\n",
       "    }\n",
       "</style>\n",
       "<table border=\"1\" class=\"dataframe\">\n",
       "  <thead>\n",
       "    <tr style=\"text-align: right;\">\n",
       "      <th></th>\n",
       "      <th>Age of youngest child</th>\n",
       "      <th>Mothers Full-time</th>\n",
       "      <th>Mothers Part-time</th>\n",
       "      <th>Fathers Full-time</th>\n",
       "      <th>Fathers Part-time</th>\n",
       "    </tr>\n",
       "  </thead>\n",
       "  <tbody>\n",
       "    <tr>\n",
       "      <th>0</th>\n",
       "      <td>under 3 years</td>\n",
       "      <td>72.4</td>\n",
       "      <td>27.6</td>\n",
       "      <td>95.3</td>\n",
       "      <td>4.7</td>\n",
       "    </tr>\n",
       "    <tr>\n",
       "      <th>1</th>\n",
       "      <td>3 to 5 years</td>\n",
       "      <td>75.4</td>\n",
       "      <td>24.6</td>\n",
       "      <td>95.5</td>\n",
       "      <td>4.5</td>\n",
       "    </tr>\n",
       "    <tr>\n",
       "      <th>2</th>\n",
       "      <td>6 to 17 years</td>\n",
       "      <td>77.9</td>\n",
       "      <td>22.1</td>\n",
       "      <td>95.8</td>\n",
       "      <td>4.2</td>\n",
       "    </tr>\n",
       "    <tr>\n",
       "      <th>3</th>\n",
       "      <td>under 18 years</td>\n",
       "      <td>76.3</td>\n",
       "      <td>23.7</td>\n",
       "      <td>95.6</td>\n",
       "      <td>4.4</td>\n",
       "    </tr>\n",
       "  </tbody>\n",
       "</table>\n",
       "</div>"
      ],
      "text/plain": [
       "  Age of youngest child  Mothers Full-time  Mothers Part-time  \\\n",
       "0         under 3 years               72.4               27.6   \n",
       "1          3 to 5 years               75.4               24.6   \n",
       "2         6 to 17 years               77.9               22.1   \n",
       "3        under 18 years               76.3               23.7   \n",
       "\n",
       "   Fathers Full-time  Fathers Part-time  \n",
       "0               95.3                4.7  \n",
       "1               95.5                4.5  \n",
       "2               95.8                4.2  \n",
       "3               95.6                4.4  "
      ]
     },
     "execution_count": 3,
     "metadata": {},
     "output_type": "execute_result"
    }
   ],
   "source": [
    "new_df = pd.read_csv('../data/employment-statusbygender-ageofyoungestchild.csv')\n",
    "new_df.head()"
   ]
  },
  {
   "cell_type": "code",
   "execution_count": 4,
   "metadata": {},
   "outputs": [
    {
     "data": {
      "text/html": [
       "<div>\n",
       "<style scoped>\n",
       "    .dataframe tbody tr th:only-of-type {\n",
       "        vertical-align: middle;\n",
       "    }\n",
       "\n",
       "    .dataframe tbody tr th {\n",
       "        vertical-align: top;\n",
       "    }\n",
       "\n",
       "    .dataframe thead th {\n",
       "        text-align: right;\n",
       "    }\n",
       "</style>\n",
       "<table border=\"1\" class=\"dataframe\">\n",
       "  <thead>\n",
       "    <tr style=\"text-align: right;\">\n",
       "      <th></th>\n",
       "      <th>State</th>\n",
       "      <th>Population group</th>\n",
       "      <th>Civilian non-institutional population</th>\n",
       "      <th>Total</th>\n",
       "      <th>Percent of population</th>\n",
       "      <th>Total Employed</th>\n",
       "      <th>Percent of population Employed</th>\n",
       "      <th>Total Unemployed</th>\n",
       "      <th>Rate Unemployed</th>\n",
       "    </tr>\n",
       "  </thead>\n",
       "  <tbody>\n",
       "    <tr>\n",
       "      <th>0</th>\n",
       "      <td>Alabama</td>\n",
       "      <td>Total</td>\n",
       "      <td>3,847</td>\n",
       "      <td>2,208</td>\n",
       "      <td>57.4</td>\n",
       "      <td>2,121</td>\n",
       "      <td>55.1</td>\n",
       "      <td>87</td>\n",
       "      <td>3.9</td>\n",
       "    </tr>\n",
       "    <tr>\n",
       "      <th>1</th>\n",
       "      <td>Alabama</td>\n",
       "      <td>Men</td>\n",
       "      <td>1,820</td>\n",
       "      <td>1,180</td>\n",
       "      <td>64.9</td>\n",
       "      <td>1,135</td>\n",
       "      <td>62.4</td>\n",
       "      <td>45</td>\n",
       "      <td>3.8</td>\n",
       "    </tr>\n",
       "    <tr>\n",
       "      <th>2</th>\n",
       "      <td>Alabama</td>\n",
       "      <td>Women</td>\n",
       "      <td>2,027</td>\n",
       "      <td>1,027</td>\n",
       "      <td>50.7</td>\n",
       "      <td>986</td>\n",
       "      <td>48.6</td>\n",
       "      <td>42</td>\n",
       "      <td>4.1</td>\n",
       "    </tr>\n",
       "    <tr>\n",
       "      <th>3</th>\n",
       "      <td>Alabama</td>\n",
       "      <td>White</td>\n",
       "      <td>2,711</td>\n",
       "      <td>1,567</td>\n",
       "      <td>57.8</td>\n",
       "      <td>1,523</td>\n",
       "      <td>56.2</td>\n",
       "      <td>44</td>\n",
       "      <td>2.8</td>\n",
       "    </tr>\n",
       "    <tr>\n",
       "      <th>4</th>\n",
       "      <td>Alabama</td>\n",
       "      <td>White, men</td>\n",
       "      <td>1,310</td>\n",
       "      <td>880</td>\n",
       "      <td>67.2</td>\n",
       "      <td>857</td>\n",
       "      <td>65.4</td>\n",
       "      <td>23</td>\n",
       "      <td>2.6</td>\n",
       "    </tr>\n",
       "  </tbody>\n",
       "</table>\n",
       "</div>"
      ],
      "text/plain": [
       "     State Population group Civilian non-institutional population  Total  \\\n",
       "0  Alabama            Total                                 3,847  2,208   \n",
       "1  Alabama              Men                                 1,820  1,180   \n",
       "2  Alabama            Women                                 2,027  1,027   \n",
       "3  Alabama            White                                 2,711  1,567   \n",
       "4  Alabama       White, men                                 1,310    880   \n",
       "\n",
       "   Percent of population Total Employed  Percent of population Employed  \\\n",
       "0                   57.4          2,121                            55.1   \n",
       "1                   64.9          1,135                            62.4   \n",
       "2                   50.7            986                            48.6   \n",
       "3                   57.8          1,523                            56.2   \n",
       "4                   67.2            857                            65.4   \n",
       "\n",
       "  Total Unemployed  Rate Unemployed  \n",
       "0               87              3.9  \n",
       "1               45              3.8  \n",
       "2               42              4.1  \n",
       "3               44              2.8  \n",
       "4               23              2.6  "
      ]
     },
     "execution_count": 4,
     "metadata": {},
     "output_type": "execute_result"
    }
   ],
   "source": [
    "state_df = pd.read_csv('../data/workforce-by-state-2018.csv')\n",
    "state_df.head()"
   ]
  },
  {
   "cell_type": "code",
   "execution_count": 5,
   "metadata": {},
   "outputs": [
    {
     "data": {
      "text/plain": [
       "array(['Alabama', 'Alaska', 'Arizona', 'Arkansas', 'California',\n",
       "       'Colorado', 'Connecticut', 'Delaware', 'District of Columbia',\n",
       "       'Florida', 'Georgia', 'Hawaii', 'Idaho', 'Illinois', 'Indiana',\n",
       "       'Iowa', 'Kansas', 'Kentucky', 'Louisiana', 'Maine', 'Maryland',\n",
       "       'Massachusetts', 'Michigan', 'Minnesota', 'Mississippi',\n",
       "       'Missouri', 'Montana', 'Nebraska', 'Nevada', 'New Hampshire',\n",
       "       'New Jersey', 'New Mexico', 'New York', 'North Carolina',\n",
       "       'North Dakota', 'Ohio', 'Oklahoma', 'Oregon', 'Pennsylvania',\n",
       "       'Rhode Island', 'South Carolina', 'South Dakota', 'Tennessee',\n",
       "       'Texas', 'Utah', 'Vermont', 'Virginia', 'Washington',\n",
       "       'West Virginia', 'Wisconsin', 'Wyoming'], dtype=object)"
      ]
     },
     "execution_count": 5,
     "metadata": {},
     "output_type": "execute_result"
    }
   ],
   "source": [
    "unique_states = state_df[\"State\"].unique()\n",
    "unique_states"
   ]
  },
  {
   "cell_type": "code",
   "execution_count": 6,
   "metadata": {},
   "outputs": [
    {
     "data": {
      "text/html": [
       "<div>\n",
       "<style scoped>\n",
       "    .dataframe tbody tr th:only-of-type {\n",
       "        vertical-align: middle;\n",
       "    }\n",
       "\n",
       "    .dataframe tbody tr th {\n",
       "        vertical-align: top;\n",
       "    }\n",
       "\n",
       "    .dataframe thead th {\n",
       "        text-align: right;\n",
       "    }\n",
       "</style>\n",
       "<table border=\"1\" class=\"dataframe\">\n",
       "  <thead>\n",
       "    <tr style=\"text-align: right;\">\n",
       "      <th></th>\n",
       "      <th></th>\n",
       "      <th>Percent of population</th>\n",
       "      <th>Percent of population Employed</th>\n",
       "      <th>Rate Unemployed</th>\n",
       "    </tr>\n",
       "    <tr>\n",
       "      <th>State</th>\n",
       "      <th>Population group</th>\n",
       "      <th></th>\n",
       "      <th></th>\n",
       "      <th></th>\n",
       "    </tr>\n",
       "  </thead>\n",
       "  <tbody>\n",
       "    <tr>\n",
       "      <th rowspan=\"5\" valign=\"top\">Alabama</th>\n",
       "      <th>Black or African American</th>\n",
       "      <td>55.8</td>\n",
       "      <td>52.0</td>\n",
       "      <td>6.9</td>\n",
       "    </tr>\n",
       "    <tr>\n",
       "      <th>Black or African American, men</th>\n",
       "      <td>57.4</td>\n",
       "      <td>53.1</td>\n",
       "      <td>7.4</td>\n",
       "    </tr>\n",
       "    <tr>\n",
       "      <th>Black or African American, women</th>\n",
       "      <td>54.6</td>\n",
       "      <td>51.1</td>\n",
       "      <td>6.4</td>\n",
       "    </tr>\n",
       "    <tr>\n",
       "      <th>Hispanic or Latino ethnicity</th>\n",
       "      <td>67.5</td>\n",
       "      <td>64.4</td>\n",
       "      <td>4.6</td>\n",
       "    </tr>\n",
       "    <tr>\n",
       "      <th>Hispanic or Latino ethnicity, men</th>\n",
       "      <td>87.4</td>\n",
       "      <td>85.1</td>\n",
       "      <td>2.6</td>\n",
       "    </tr>\n",
       "  </tbody>\n",
       "</table>\n",
       "</div>"
      ],
      "text/plain": [
       "                                           Percent of population  \\\n",
       "State   Population group                                           \n",
       "Alabama Black or African American                           55.8   \n",
       "        Black or African American, men                      57.4   \n",
       "        Black or African American, women                    54.6   \n",
       "        Hispanic or Latino ethnicity                        67.5   \n",
       "        Hispanic or Latino ethnicity, men                   87.4   \n",
       "\n",
       "                                           Percent of population Employed  \\\n",
       "State   Population group                                                    \n",
       "Alabama Black or African American                                    52.0   \n",
       "        Black or African American, men                               53.1   \n",
       "        Black or African American, women                             51.1   \n",
       "        Hispanic or Latino ethnicity                                 64.4   \n",
       "        Hispanic or Latino ethnicity, men                            85.1   \n",
       "\n",
       "                                           Rate Unemployed  \n",
       "State   Population group                                    \n",
       "Alabama Black or African American                      6.9  \n",
       "        Black or African American, men                 7.4  \n",
       "        Black or African American, women               6.4  \n",
       "        Hispanic or Latino ethnicity                   4.6  \n",
       "        Hispanic or Latino ethnicity, men              2.6  "
      ]
     },
     "execution_count": 6,
     "metadata": {},
     "output_type": "execute_result"
    }
   ],
   "source": [
    "# stategroups = state_df.groupby([\"Population group\",\"State\"])\n",
    "stategroups = state_df.groupby([\"State\",\"Population group\"])\n",
    "# stategroups.mean().head()\n",
    "stategroups.mean().head()"
   ]
  },
  {
   "cell_type": "code",
   "execution_count": 7,
   "metadata": {},
   "outputs": [
    {
     "data": {
      "text/plain": [
       "2    48.6\n",
       "Name: Percent Employed, dtype: float64"
      ]
     },
     "execution_count": 7,
     "metadata": {},
     "output_type": "execute_result"
    }
   ],
   "source": [
    "AL_pop = state_df.loc[state_df['State'] == 'Alabama', 'Population group']\n",
    "AL_employed = state_df.loc[state_df['State'] == 'Alabama', 'Percent of population Employed']\n",
    "AL_unemployed = state_df.loc[state_df['State'] == 'Alabama', 'Rate Unemployed']\n",
    "\n",
    "AL_df = pd.DataFrame({\"Population Group\": AL_pop,\n",
    "                    \"Percent Employed\": AL_employed,\n",
    "                    \"Rate Unemployed\": AL_unemployed})\n",
    "AL_women = AL_df.loc[AL_df[\"Population Group\"] == \"Women\", \"Percent Employed\"]\n",
    "AL_women"
   ]
  },
  {
   "cell_type": "code",
   "execution_count": 8,
   "metadata": {},
   "outputs": [
    {
     "data": {
      "text/plain": [
       "32    58.2\n",
       "Name: Percent Employed, dtype: float64"
      ]
     },
     "execution_count": 8,
     "metadata": {},
     "output_type": "execute_result"
    }
   ],
   "source": [
    "AK_pop = state_df.loc[state_df['State'] == 'Alaska', 'Population group']\n",
    "AK_employed = state_df.loc[state_df['State'] == 'Alaska', 'Percent of population Employed']\n",
    "AK_unemployed = state_df.loc[state_df['State'] == 'Alaska', 'Rate Unemployed']\n",
    "\n",
    "AK_df = pd.DataFrame({\"Population Group\": AK_pop,\n",
    "                    \"Percent Employed\": AK_employed,\n",
    "                    \"Rate Unemployed\": AK_unemployed})\n",
    "AK_women = AK_df.loc[AK_df[\"Population Group\"] == \"Women\", \"Percent Employed\"]\n",
    "AK_women"
   ]
  },
  {
   "cell_type": "code",
   "execution_count": 9,
   "metadata": {},
   "outputs": [
    {
     "data": {
      "text/plain": [
       "116    52.9\n",
       "Name: Percent Employed, dtype: float64"
      ]
     },
     "execution_count": 9,
     "metadata": {},
     "output_type": "execute_result"
    }
   ],
   "source": [
    "CA_pop = state_df.loc[state_df['State'] == 'California', 'Population group']\n",
    "CA_employed = state_df.loc[state_df['State'] == 'California', 'Percent of population Employed']\n",
    "CA_unemployed = state_df.loc[state_df['State'] == 'California', 'Rate Unemployed']\n",
    "\n",
    "CA_df = pd.DataFrame({\"Population Group\": CA_pop,\n",
    "                    \"Percent Employed\": CA_employed,\n",
    "                    \"Rate Unemployed\": CA_unemployed})\n",
    "CA_women = CA_df.loc[CA_df[\"Population Group\"] == \"Women\", \"Percent Employed\"]\n",
    "CA_women"
   ]
  },
  {
   "cell_type": "code",
   "execution_count": 10,
   "metadata": {},
   "outputs": [
    {
     "data": {
      "text/plain": [
       "897    53.6\n",
       "Name: Percent Employed, dtype: float64"
      ]
     },
     "execution_count": 10,
     "metadata": {},
     "output_type": "execute_result"
    }
   ],
   "source": [
    "NY_pop = state_df.loc[state_df['State'] == 'New York', 'Population group']\n",
    "NY_employed = state_df.loc[state_df['State'] == 'New York', 'Percent of population Employed']\n",
    "NY_unemployed = state_df.loc[state_df['State'] == 'New York', 'Rate Unemployed']\n",
    "\n",
    "NY_df = pd.DataFrame({\"Population Group\": NY_pop,\n",
    "                    \"Percent Employed\": NY_employed,\n",
    "                    \"Rate Unemployed\": NY_unemployed})\n",
    "NY_women = NY_df.loc[NY_df[\"Population Group\"] == \"Women\", \"Percent Employed\"]\n",
    "NY_women"
   ]
  },
  {
   "cell_type": "code",
   "execution_count": null,
   "metadata": {},
   "outputs": [],
   "source": []
  }
 ],
 "metadata": {
  "kernelspec": {
   "display_name": "Python 3",
   "language": "python",
   "name": "python3"
  },
  "language_info": {
   "codemirror_mode": {
    "name": "ipython",
    "version": 3
   },
   "file_extension": ".py",
   "mimetype": "text/x-python",
   "name": "python",
   "nbconvert_exporter": "python",
   "pygments_lexer": "ipython3",
   "version": "3.7.3"
  }
 },
 "nbformat": 4,
 "nbformat_minor": 2
}
